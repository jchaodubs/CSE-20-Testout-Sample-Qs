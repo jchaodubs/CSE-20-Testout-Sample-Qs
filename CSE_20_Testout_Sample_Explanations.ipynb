{
  "nbformat": 4,
  "nbformat_minor": 0,
  "metadata": {
    "colab": {
      "name": "CSE_20_Testout_Sample_Explanations.ipynb",
      "provenance": [],
      "collapsed_sections": []
    },
    "language_info": {
      "codemirror_mode": {
        "name": "ipython",
        "version": 3
      },
      "file_extension": ".py",
      "mimetype": "text/x-python",
      "name": "python",
      "nbconvert_exporter": "python",
      "pygments_lexer": "ipython3",
      "version": "3.7.3"
    },
    "kernelspec": {
      "display_name": "Python 3",
      "language": "python",
      "name": "python3"
    }
  },
  "cells": [
    {
      "cell_type": "code",
      "metadata": {
        "id": "eJVEzGu7J48B"
      },
      "source": [
        "NAME = \"Jefferson\"\n",
        "COLLABORATORS = \"None\""
      ],
      "execution_count": null,
      "outputs": []
    },
    {
      "cell_type": "markdown",
      "metadata": {
        "id": "mAYeCIlTJ48F"
      },
      "source": [
        "---"
      ]
    },
    {
      "cell_type": "markdown",
      "metadata": {
        "deletable": false,
        "editable": false,
        "nbgrader": {
          "checksum": "3859d486d36c65e09fdb3203670de5ec",
          "grade": false,
          "grade_id": "cell-f9ea4c6266cd052c",
          "locked": true,
          "schema_version": 1,
          "solution": false
        },
        "id": "ddpmQzBfJ48G"
      },
      "source": [
        "# CSE 20 Testout Sample\n",
        "\n",
        "There are 6 questions, each worth 10 points. For each question, there is both a description of the questions, and some tests that help you check that your solution works.  Some questions have two sets of tests, easier ones, and full tests, so that you can get some points even if you do not solve the full problem. \n",
        "\n",
        "*   Try out your own test cases. Even if your code work on the given test cases, that does not mean you will get full credit. We have hidden test cases that are not shown here. So please test your code.\n",
        "*   When inputs are lists: common errors happen when either the input is empty or has one element. Make sure you test such cases.\n",
        "*   You can write out print statements in your code, to help you test/debug it.\n",
        "\n",
        "Once you are done, if this were a real exam, you would submit your work as follows:\n",
        "\n",
        "* Download the notebook via File > Save as .ipynb\n",
        "* Upload it to a specified google form.\n"
      ]
    },
    {
      "cell_type": "markdown",
      "metadata": {
        "deletable": false,
        "editable": false,
        "nbgrader": {
          "checksum": "14d72196771e905802db9a5e88114c7c",
          "grade": false,
          "grade_id": "cell-190ad105de78a2f6",
          "locked": true,
          "schema_version": 1,
          "solution": false
        },
        "id": "3sQzsUEvJ48G"
      },
      "source": [
        "## Preliminaries\n",
        "\n",
        "First, let us check that you are working with Python 3, and that you have the package required for the tests."
      ]
    },
    {
      "cell_type": "markdown",
      "metadata": {
        "deletable": false,
        "editable": false,
        "nbgrader": {
          "checksum": "cda3872cfd0ded393bde95adef43289a",
          "grade": false,
          "grade_id": "cell-6da79be67b6e12dd",
          "locked": true,
          "schema_version": 1,
          "solution": false
        },
        "id": "z4R1O7tFJ48H"
      },
      "source": [
        "**Nose.** The line below works on colab.research.google.com.  If it does not work on your laptop, do:\n",
        "\n",
        "    !pip install nose\n",
        "    \n",
        "if you use pip to install packages, and \n",
        "\n",
        "    !conda install nose\n",
        "    \n",
        "if you use conda"
      ]
    },
    {
      "cell_type": "code",
      "metadata": {
        "deletable": false,
        "editable": false,
        "nbgrader": {
          "checksum": "e5c22d6585407a7143873b25447e051d",
          "grade": false,
          "grade_id": "cell-628647a45f12c165",
          "locked": true,
          "schema_version": 1,
          "solution": false
        },
        "id": "yPuOdfKhJ48I",
        "colab": {
          "base_uri": "https://localhost:8080/"
        },
        "outputId": "1c404163-8312-4325-afdb-fba453253b95"
      },
      "source": [
        "!pip install nose\n",
        "from nose.tools import assert_equal, assert_true, assert_false"
      ],
      "execution_count": null,
      "outputs": [
        {
          "output_type": "stream",
          "name": "stdout",
          "text": [
            "Looking in indexes: https://pypi.org/simple, https://us-python.pkg.dev/colab-wheels/public/simple/\n",
            "Collecting nose\n",
            "  Downloading nose-1.3.7-py3-none-any.whl (154 kB)\n",
            "\u001b[K     |████████████████████████████████| 154 kB 14.5 MB/s \n",
            "\u001b[?25hInstalling collected packages: nose\n",
            "Successfully installed nose-1.3.7\n"
          ]
        }
      ]
    },
    {
      "cell_type": "code",
      "metadata": {
        "deletable": false,
        "editable": false,
        "nbgrader": {
          "checksum": "4341423e17828df90b76c625a9c4d6e6",
          "grade": false,
          "grade_id": "cell-c2e4fae18d5d0ea7",
          "locked": true,
          "schema_version": 1,
          "solution": false
        },
        "id": "u1ZizrMSJ48K"
      },
      "source": [
        "# We check that you are running Python 3.  You need to use Python 3.\n",
        "import sys\n",
        "assert_equal(sys.version_info.major, 3)"
      ],
      "execution_count": null,
      "outputs": []
    },
    {
      "cell_type": "markdown",
      "metadata": {
        "deletable": false,
        "editable": false,
        "nbgrader": {
          "checksum": "7e963f322e87f3c05d2c96d550600ea3",
          "grade": false,
          "grade_id": "cell-1b397debacf0b1f0",
          "locked": true,
          "schema_version": 1,
          "solution": false
        },
        "id": "2szizIGdJ48M"
      },
      "source": [
        "## Question 1\n",
        "\n",
        "Write a function ziplist that, given two lists, produces a list of pairs, with the first element of the pair coming from the first list, and the second from the second list.  The output list of pairs must be as long as the longest of the input lists, and the missing elements from the shorter input list give rise to None in the output list. \n"
      ]
    },
    {
      "cell_type": "code",
      "metadata": {
        "deletable": false,
        "nbgrader": {
          "checksum": "3a66b7f22b7ddda75594a7773f742dfa",
          "grade": false,
          "grade_id": "cell-9d983671ab005c31",
          "locked": false,
          "schema_version": 1,
          "solution": true
        },
        "id": "hhCZVMYJJ48N"
      },
      "source": [
        "def ziplist(a,b):\n",
        "  # YOUR CODE HERE\n",
        "    if len(a)>len(b):\n",
        "      x = len(a)-len(b)\n",
        "      for t in range(x):\n",
        "        b.append(None)\n",
        "    elif len(b)>len(a):\n",
        "      e=len(b)-len(a)\n",
        "      for s in range(e):\n",
        "        a.append(None)\n",
        "    p = []\n",
        "    h =0\n",
        "    for k in a:\n",
        "      y = (k,b[h])\n",
        "      p.append(y)\n",
        "      h+=1\n",
        "    return p\n"
      ],
      "execution_count": null,
      "outputs": []
    },
    {
      "cell_type": "markdown",
      "source": [
        "explanation: My main thought was just to make a for loop that appends a value from list a, then list b and so on. Before that I needed the lists to be equal length, and as the questions references, if one list is longer than the other, then the unpaired values should be paired with a None value. So the first if/elif portion of my code if figuring out which list is longer and adding enough None values to the shorter list to make them equal length. Then finally, I just made a for-loop that added on the pairs."
      ],
      "metadata": {
        "id": "6ME5c0e_PaFp"
      }
    },
    {
      "cell_type": "code",
      "source": [
        "ziplist(['a','b','c'],[1,2,3])"
      ],
      "metadata": {
        "id": "YQN9cCyEVFuz",
        "outputId": "9e364241-2e91-4ccc-e135-70c35e1e9641",
        "colab": {
          "base_uri": "https://localhost:8080/"
        }
      },
      "execution_count": null,
      "outputs": [
        {
          "output_type": "execute_result",
          "data": {
            "text/plain": [
              "[('a', 1), ('b', 2), ('c', 3)]"
            ]
          },
          "metadata": {},
          "execution_count": 4
        }
      ]
    },
    {
      "cell_type": "code",
      "metadata": {
        "deletable": false,
        "editable": false,
        "nbgrader": {
          "checksum": "2dfe88e96cd01431028a220d8d0c91db",
          "grade": true,
          "grade_id": "cell-2e2fe7596f2b2774",
          "locked": true,
          "points": 4,
          "schema_version": 1,
          "solution": false
        },
        "id": "5t7cUjU4J48P"
      },
      "source": [
        "# 4 Points. First, let's check that your code works on lists of equal length.\n",
        "assert_equal(ziplist(['a', 'b', 'c'], [1, 2, 3]), [('a', 1), ('b', 2), ('c', 3)])\n",
        "assert_equal(ziplist([], []), [])"
      ],
      "execution_count": null,
      "outputs": []
    },
    {
      "cell_type": "code",
      "metadata": {
        "deletable": false,
        "editable": false,
        "nbgrader": {
          "checksum": "dbd527dd233dcc728ddb59aeb1188a2a",
          "grade": true,
          "grade_id": "cell-34ebe737960135e8",
          "locked": true,
          "points": 6,
          "schema_version": 1,
          "solution": false
        },
        "id": "EBsI-ZTnJ48R"
      },
      "source": [
        "# 6 Points. The function also needs to work on lists of different lengths.\n",
        "assert_equal(ziplist([1, 2], []), [(1, None), (2, None)])\n",
        "assert_equal(ziplist([1], ['a', 'b']), [(1, 'a'), (None, 'b')])"
      ],
      "execution_count": null,
      "outputs": []
    },
    {
      "cell_type": "markdown",
      "metadata": {
        "deletable": false,
        "editable": false,
        "nbgrader": {
          "checksum": "eb31ca81b8f9da6fbca7bccc37f2d6b9",
          "grade": false,
          "grade_id": "cell-d62007cce3a56a07",
          "locked": true,
          "schema_version": 1,
          "solution": false
        },
        "id": "2WOUjDZcJ48T"
      },
      "source": [
        "## Question 2\n",
        "\n",
        "Write a function threeormore that, given an input list, outputs the set of list elements that occur 3 or more times.\n",
        "\n"
      ]
    },
    {
      "cell_type": "code",
      "metadata": {
        "deletable": false,
        "nbgrader": {
          "checksum": "d0a5e0c635d5a7ed4f0aba3cf81c3dae",
          "grade": false,
          "grade_id": "cell-60ac8898a224d9c8",
          "locked": false,
          "schema_version": 1,
          "solution": true
        },
        "id": "ix5FuxUgJ48U"
      },
      "source": [
        "def threeormore(li):\n",
        "  # YOUR CODE HERE\n",
        "    end = set([])\n",
        "    cuntr=0\n",
        "    for key in li:\n",
        "      for inkey in li:\n",
        "          if key==inkey:\n",
        "            cuntr+=1\n",
        "      if cuntr>=3:\n",
        "        end.add(key)\n",
        "      cuntr=0\n",
        "    return end"
      ],
      "execution_count": null,
      "outputs": []
    },
    {
      "cell_type": "markdown",
      "source": [
        "explanation: Since you're checking if something the lists occurs in the rest of the list 3+ times, then my thought was to make a nested for-loop. The outer for-loop starts at index 0, and the inner for-loop checks the entire list if the outer key == the inkey, and if so then the cuntr goes up 1. If it occurs 3+ times then the key gets added to the set. I used a set because if the key is already listed in the set then it simply doesn't get added again, stopping repeating numbers."
      ],
      "metadata": {
        "id": "AF87xuMyQlRJ"
      }
    },
    {
      "cell_type": "code",
      "source": [
        "threeormore([1,2,3,2,2])"
      ],
      "metadata": {
        "colab": {
          "base_uri": "https://localhost:8080/"
        },
        "id": "XEeBPEtTf5S0",
        "outputId": "2f07ad9b-fa53-4756-f97b-87f291aaec25"
      },
      "execution_count": null,
      "outputs": [
        {
          "output_type": "execute_result",
          "data": {
            "text/plain": [
              "{2}"
            ]
          },
          "metadata": {},
          "execution_count": 15
        }
      ]
    },
    {
      "cell_type": "code",
      "metadata": {
        "deletable": false,
        "editable": false,
        "nbgrader": {
          "checksum": "e5e3eb26761e953e6067df428fb61aed",
          "grade": true,
          "grade_id": "cell-57eca55510d54862",
          "locked": true,
          "points": 10,
          "schema_version": 1,
          "solution": false
        },
        "id": "UtQiuAI8J48X"
      },
      "source": [
        "assert_equal(threeormore([1, 3, 5, 4, 3, 7, 6, 3, 7, 7, 7, 1, 2, 0, 3, 1]), {1, 3, 7})\n",
        "assert_equal(threeormore([]), set())"
      ],
      "execution_count": null,
      "outputs": []
    },
    {
      "cell_type": "markdown",
      "metadata": {
        "deletable": false,
        "editable": false,
        "nbgrader": {
          "checksum": "bc43a0ec369fcf25d7c1bda0f156024c",
          "grade": false,
          "grade_id": "cell-fb756b6fe57a5c26",
          "locked": true,
          "schema_version": 1,
          "solution": false
        },
        "id": "4Zrg6r1JJ48Y"
      },
      "source": [
        "## Question 3\n",
        "\n",
        "Implement a queue class: a class MyQueue with two operations, enqueue and dequeue. A queue takes in items in first-in-first-out order. The enqueue function adds items to a queue. The dequeue function returns the earliest item enqueued (and deletes this from the queue). If the queue is empty, then dequeue should return None.\n",
        "\n",
        "You can look at a specific example below."
      ]
    },
    {
      "cell_type": "code",
      "metadata": {
        "deletable": false,
        "nbgrader": {
          "checksum": "3e98fcc7b4965366e78b78df37c587ea",
          "grade": false,
          "grade_id": "cell-36c0674aaa538522",
          "locked": false,
          "schema_version": 1,
          "solution": true
        },
        "id": "jHmC3mTuJ48Z"
      },
      "source": [
        "class MyQueue(): \n",
        "    # YOUR CODE HERE\n",
        "    def __init__(self,q=[]):\n",
        "        self.q=q     \n",
        "    def enqueue(self, x):\n",
        "        self.q.append(x)\n",
        "    def dequeue(self):\n",
        "        if len(self.q)>0:\n",
        "          return self.q.pop(0) \n",
        "        else:\n",
        "          return None"
      ],
      "execution_count": null,
      "outputs": []
    },
    {
      "cell_type": "markdown",
      "source": [
        "explanation: enqueue is just adding onto the list. for the dequeue function, I used the pop method as you can return the earliest value while also removing it."
      ],
      "metadata": {
        "id": "RGuON_SnR9Gr"
      }
    },
    {
      "cell_type": "code",
      "source": [
        "b=MyQueue()\n",
        "b.enqueue('banana')\n",
        "b.enqueue('apple')\n",
        "b.dequeue()\n",
        "b.enqueue('cherry')\n",
        "b.dequeue()\n",
        "b.dequeue()\n",
        "b.dequeue()"
      ],
      "metadata": {
        "id": "tnwquFgBm25U"
      },
      "execution_count": null,
      "outputs": []
    },
    {
      "cell_type": "code",
      "metadata": {
        "deletable": false,
        "editable": false,
        "nbgrader": {
          "checksum": "85a14cadadbb0fc9b2de5c7232d3a734",
          "grade": true,
          "grade_id": "cell-2e84ce35e27cbe8b",
          "locked": true,
          "points": 10,
          "schema_version": 1,
          "solution": false
        },
        "id": "XKBt2tWvJ48b"
      },
      "source": [
        "# Example of behavior.\n",
        "q = MyQueue()\n",
        "q.enqueue('banana')\n",
        "q.enqueue('apple')\n",
        "assert_equal(q.dequeue(),'banana')\n",
        "q.enqueue('cherry')\n",
        "assert_equal(q.dequeue(), 'apple')\n",
        "assert_equal(q.dequeue(), 'cherry')\n",
        "assert_equal(q.dequeue(), None)"
      ],
      "execution_count": null,
      "outputs": []
    },
    {
      "cell_type": "markdown",
      "metadata": {
        "deletable": false,
        "editable": false,
        "nbgrader": {
          "checksum": "60c5bb38a63cd86b58f9ec772db10755",
          "grade": false,
          "grade_id": "cell-b6cda7f3b99bc84b",
          "locked": true,
          "schema_version": 1,
          "solution": false
        },
        "id": "jXUCWZD3J48d"
      },
      "source": [
        "## Question 4\n",
        "\n",
        "Implement a function closest_neighbor that, given a list of points in the (x, y) format, returns the pair of closest points (according to the usual notion of distance of points on the plane), listing the pair in the same relative order as in the list. If the list has fewer than two elements, return None."
      ]
    },
    {
      "cell_type": "code",
      "metadata": {
        "deletable": false,
        "nbgrader": {
          "checksum": "473300b953e56dd97477d6f789341016",
          "grade": false,
          "grade_id": "cell-ca3c2aecc698ef1b",
          "locked": false,
          "schema_version": 1,
          "solution": true
        },
        "id": "wlsx3wkiJ48d"
      },
      "source": [
        "import math\n",
        "def closest_neighbor(point_list):\n",
        "    # YOUR CODE HERE\n",
        "    leng = len(point_list)\n",
        "    if len(point_list)<=2:\n",
        "      return None\n",
        "    else:\n",
        "      k={}\n",
        "      for key in point_list[0:leng-1]:\n",
        "        x=0\n",
        "        for inkey in point_list[x+1:]:\n",
        "          dist = float(math.sqrt((inkey[0]-key[0])**2+(inkey[1]-key[1])**2))\n",
        "          if(key!=inkey):\n",
        "            k[key,inkey]=float(dist)\n",
        "          else:\n",
        "            pass\n",
        "        x+=1\n",
        "    val=2**31-1\n",
        "    fay=()\n",
        "    for fin in k:\n",
        "      if k[fin]<val:\n",
        "        fay=fin\n",
        "        val=k[fin]\n",
        "    return fay"
      ],
      "execution_count": null,
      "outputs": []
    },
    {
      "cell_type": "markdown",
      "source": [
        "notes: \n",
        "Someone in the ucsc 2026 discord said it's discouraged to import anything, but I didn't want to go through the trouble of making a sqrt method\n",
        "Also this question was the one that gave me the most trouble and is most likely not 100% correct\n",
        "\n",
        "explanation: As the question states if the list has less than 2 elements then return None. Like question 2, I made a nested for-loop. Then for every key(pair), the inner for-loop would go through every pair after the original key and assign it a distance. This would then be placed into the dictionary (k) I made. This would in turn list every possible combination of coordinate pairs along with it's value(distance). Then finally, I just created a for loop to go through the values to find the smallest dist. and I returned the key for that dist.\n"
      ],
      "metadata": {
        "id": "bThJr6EeSWze"
      }
    },
    {
      "cell_type": "code",
      "source": [
        "closest_neighbor([(1,2),(5,6),(3,9)])"
      ],
      "metadata": {
        "colab": {
          "base_uri": "https://localhost:8080/"
        },
        "id": "pm_HSRotv9mM",
        "outputId": "2c595c88-c5e8-445e-ec8a-fe4c7de63c28"
      },
      "execution_count": null,
      "outputs": [
        {
          "output_type": "execute_result",
          "data": {
            "text/plain": [
              "((5, 6), (3, 9))"
            ]
          },
          "metadata": {},
          "execution_count": 8
        }
      ]
    },
    {
      "cell_type": "code",
      "metadata": {
        "deletable": false,
        "editable": false,
        "nbgrader": {
          "checksum": "f4616340f0786f1d5b91cab45294c668",
          "grade": true,
          "grade_id": "cell-dc8b60881d9ca1c5",
          "locked": true,
          "points": 10,
          "schema_version": 1,
          "solution": false
        },
        "id": "bzUGIq3CJ48f"
      },
      "source": [
        "\n",
        "\n",
        "assert_equal(closest_neighbor([(1, 2), (4, 5), (3,1), (5,5)]), ((4, 5), (5, 5)))\n",
        "\n",
        "assert_equal(closest_neighbor([(1, 2)]), None)"
      ],
      "execution_count": null,
      "outputs": []
    },
    {
      "cell_type": "markdown",
      "metadata": {
        "deletable": false,
        "editable": false,
        "nbgrader": {
          "checksum": "84042788a372d07f03f5869d919ecb13",
          "grade": false,
          "grade_id": "cell-90d63ed258fcc219",
          "locked": true,
          "schema_version": 1,
          "solution": false
        },
        "id": "vsJaMqrRJ48h"
      },
      "source": [
        "## Question 5\n",
        "\n",
        "Implement a function olympic_average that, given a list of numbers, if the list is of length at least 3, excludes the minimum and maximum elements and returns the average of the other elements. If the list is shorter than 3, it just returns the average of the elements. If the list is empty, it returns None."
      ]
    },
    {
      "cell_type": "code",
      "metadata": {
        "deletable": false,
        "nbgrader": {
          "checksum": "4bf818dfa59f5610282ad556618caf09",
          "grade": false,
          "grade_id": "cell-f3731568c71eecc8",
          "locked": false,
          "schema_version": 1,
          "solution": true
        },
        "id": "N1j8OpgMJ48h"
      },
      "source": [
        "def olympic_average(els):\n",
        "    # YOUR CODE HERE\n",
        "    els.sort()\n",
        "    chefc=0\n",
        "    denom=0\n",
        "    if len(els)>=3:\n",
        "      for num in els[1:len(els)-1]:\n",
        "        chefc+=num\n",
        "        denom+=1\n",
        "      return float(chefc/denom)\n",
        "    elif len(els)!=0:\n",
        "      for num in els:\n",
        "        chefc+=num\n",
        "        denom+=1\n",
        "      return float(chefc/denom)\n",
        "    return None"
      ],
      "execution_count": null,
      "outputs": []
    },
    {
      "cell_type": "markdown",
      "source": [
        "explanation: I first started for cases in lists that had 3+ elements, so I made a for-loop that ran through index's 1 through len(list)-1. And then it's simply finding an avg. My elif were for lists less than 3 elements and is also just finding an avg. Finally return None if there's no elements in given list."
      ],
      "metadata": {
        "id": "Ne9ufVZVS0t8"
      }
    },
    {
      "cell_type": "code",
      "metadata": {
        "deletable": false,
        "editable": false,
        "nbgrader": {
          "checksum": "0e9c2ab912e38af27fc11974edc71229",
          "grade": true,
          "grade_id": "cell-8145a59482427824",
          "locked": true,
          "points": 5,
          "schema_version": 1,
          "solution": false
        },
        "id": "cus4wp1BJ48k"
      },
      "source": [
        "# 5 Points: Let us assume that the list has at least 3 elements.\n",
        "assert_equal(olympic_average([5, 3, 4, 5]), 4.5)\n",
        "assert_equal(olympic_average([5, 6, 3, 4, 10]), 5)"
      ],
      "execution_count": null,
      "outputs": []
    },
    {
      "cell_type": "code",
      "metadata": {
        "deletable": false,
        "editable": false,
        "nbgrader": {
          "checksum": "8ba58cf5f959209dd35ec22e38bcd185",
          "grade": true,
          "grade_id": "cell-53ffd7d4c2662095",
          "locked": true,
          "points": 5,
          "schema_version": 1,
          "solution": false
        },
        "id": "-azxa7T3J48m"
      },
      "source": [
        "# 5 Points: General case.\n",
        "assert_equal(olympic_average([2, 3]), 2.5)\n",
        "assert_equal(olympic_average([4]), 4)\n",
        "assert_equal(olympic_average([]), None)\n",
        "assert_equal(olympic_average([5, 3, 11, 5]), 5)"
      ],
      "execution_count": null,
      "outputs": []
    },
    {
      "cell_type": "markdown",
      "metadata": {
        "deletable": false,
        "editable": false,
        "nbgrader": {
          "checksum": "7e6dc0d42b4cfc909bd916c2b6853772",
          "grade": false,
          "grade_id": "cell-378d0a4da50d86da",
          "locked": true,
          "schema_version": 1,
          "solution": false
        },
        "id": "_wNhqBolJ48o"
      },
      "source": [
        "## Question 6\n",
        "\n",
        "Implement a function is_anagram that takes as input two strings, and returns True if and only if the strings are anagrams of each other. This means that the both strings are permutations of each other. You can assume that string will only have lowercase letters."
      ]
    },
    {
      "cell_type": "code",
      "metadata": {
        "deletable": false,
        "nbgrader": {
          "checksum": "364f09bb7eeb22d1c39933110ab124cd",
          "grade": false,
          "grade_id": "cell-166fd5fa32f2c27f",
          "locked": false,
          "schema_version": 1,
          "solution": true
        },
        "id": "-YkH0STjJ48p"
      },
      "source": [
        "def is_anagram(w1, w2):\n",
        "    \"\"\"Returns True iff word w1 is an anagram of word w2.\"\"\"\n",
        "    # YOUR CODE HERE\n",
        "    word1 = list(w1)\n",
        "    word2= list(w2)\n",
        "    word1.sort()\n",
        "    word2.sort()\n",
        "    if word1==word2:\n",
        "      return True\n",
        "    else:\n",
        "      return False"
      ],
      "execution_count": null,
      "outputs": []
    },
    {
      "cell_type": "markdown",
      "source": [
        "explanation: If 2 words are anagrams of each other, then them being sorted in a list should equal to each other. so I turned the strings into lists, then sorted them, then checked if they were equivalent."
      ],
      "metadata": {
        "id": "vXyjDrw6zWJj"
      }
    },
    {
      "cell_type": "code",
      "metadata": {
        "deletable": false,
        "editable": false,
        "nbgrader": {
          "checksum": "e9d59d832eb5f86a398177c97b648ebd",
          "grade": true,
          "grade_id": "cell-19398d91ea6ebef7",
          "locked": true,
          "points": 5,
          "schema_version": 1,
          "solution": false
        },
        "id": "-_OVLY6lJ48t"
      },
      "source": [
        "# 5 points. First, let's assume that the word does not contain repeated letters. \n",
        "assert_true(is_anagram(\"home\", \"hemo\"))\n",
        "assert_true(is_anagram(\"\", \"\"))\n",
        "assert_true(is_anagram(\"figure\", \"refugi\"))\n",
        "assert_false(is_anagram(\"seal\", \"coal\"))"
      ],
      "execution_count": null,
      "outputs": []
    },
    {
      "cell_type": "code",
      "metadata": {
        "deletable": false,
        "editable": false,
        "nbgrader": {
          "checksum": "45e67397e50eeef3473b2c2f07c2703c",
          "grade": true,
          "grade_id": "cell-59f0616d30eafe4a",
          "locked": true,
          "points": 5,
          "schema_version": 1,
          "solution": false
        },
        "id": "9buUoTa_J48v"
      },
      "source": [
        "# 5 points.  General case, where there can be repeated characters. \n",
        "assert_true(is_anagram(\"banana\", \"ananab\"))\n",
        "assert_false(is_anagram(\"hello\", \"helo\"))\n",
        "assert_false(is_anagram(\"banana\", \"bnana\"))"
      ],
      "execution_count": null,
      "outputs": []
    }
  ]
}